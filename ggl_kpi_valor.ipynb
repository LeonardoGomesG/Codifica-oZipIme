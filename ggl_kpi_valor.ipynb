{
  "nbformat": 4,
  "nbformat_minor": 0,
  "metadata": {
    "colab": {
      "name": "ggl_kpi_valor.ipynb",
      "provenance": [],
      "authorship_tag": "ABX9TyP6sKNbhBeV1+4AoTAR24M3",
      "include_colab_link": true
    },
    "kernelspec": {
      "name": "python3",
      "display_name": "Python 3"
    }
  },
  "cells": [
    {
      "cell_type": "markdown",
      "metadata": {
        "id": "view-in-github",
        "colab_type": "text"
      },
      "source": [
        "<a href=\"https://colab.research.google.com/github/LeonardoGomesG/Codifica-oZipIme/blob/master/ggl_kpi_valor.ipynb\" target=\"_parent\"><img src=\"https://colab.research.google.com/assets/colab-badge.svg\" alt=\"Open In Colab\"/></a>"
      ]
    },
    {
      "cell_type": "markdown",
      "metadata": {
        "id": "fpMqYdih1Eco"
      },
      "source": [
        "# Budget Manager -  Cálculo do Valor da Métrica de Otimização\n",
        "\n",
        "O objetivo desta etapa é calcular o Valor da Métrica de Otimização escolhida no processo anterior. \\\\\n",
        "O valor de todos os kpis das campanhas serão calculados de acordo com uma janela fixa de dias (futuramente uma janela móvel) a partir do dia atual, dada pelo parametro METRIC_WINDOW definido abaixo. \\\\\n",
        "Será calculado também o valor do coeficiente usado na otimização do simplex, definindo se quer-se minimizar ou maximizar a Métrica de Otimização.\n",
        "\n",
        "\n"
      ]
    },
    {
      "cell_type": "markdown",
      "metadata": {
        "id": "msm3pXH65omU"
      },
      "source": [
        "### Configuração do notebook\n",
        "\n",
        "Utilizaremos as biblitecas pandas e numpy para trabalhar com o dataset. Para o carregamento e consulta dos dados, utilizaremos a biblioteca do google cloud. Abaixo, iremos configurar os parâmetros globais do algoritmo."
      ]
    },
    {
      "cell_type": "code",
      "metadata": {
        "id": "GVhhXUYb9KLe"
      },
      "source": [
        "import os\n",
        "import warnings\n",
        "import math\n",
        "\n",
        "from datetime import datetime, timedelta\n",
        "\n",
        "warnings.filterwarnings('ignore', category=FutureWarning)\n",
        "\n",
        "import pandas as pd\n",
        "import numpy as np"
      ],
      "execution_count": 14,
      "outputs": []
    },
    {
      "cell_type": "code",
      "metadata": {
        "id": "hi15LqjP6Tw1"
      },
      "source": [
        "PARTITION_DATE = locals().get('ds', (datetime.today() - timedelta(days=1)).strftime(\"%Y-%m-%d\"))\n",
        "PARTITION_DATE_NODASH = locals().get('ds_nodash', (datetime.today() - timedelta(days=1)).strftime(\"%Y%m%d\"))\n",
        "\n",
        "GOOGLE_AUTH_CREDENTIALS_FILE = os.environ.get('GOOGLE_APPLICATION_CREDENTIALS', '/content/credentials.json')\n",
        "\n",
        "GOOGLE_BIGQUERY_PROJECT = 'pareto-bi'\n",
        "GOOGLE_BIGQUERY_DATASET = locals().get('gbq_dataset', 'BUDGET_MANAGER_TEST')\n",
        "GOOGLE_BIGQUERY_DESTINATION_TABLE = f'{GOOGLE_BIGQUERY_PROJECT}.{GOOGLE_BIGQUERY_DATASET}.ggl_optimization_metric_value${PARTITION_DATE_NODASH}'\n",
        "\n",
        "METRIC_WINDOW = 7\n",
        "MW_PARAMETER = METRIC_WINDOW - 1"
      ],
      "execution_count": 15,
      "outputs": []
    },
    {
      "cell_type": "code",
      "metadata": {
        "id": "4KoikYicCA11",
        "outputId": "0a56af55-394b-4b33-a5b1-2281e56645ef",
        "colab": {
          "base_uri": "https://localhost:8080/",
          "height": 51
        }
      },
      "source": [
        "from google.cloud import bigquery\n",
        "from google.cloud.bigquery import magics\n",
        "from google.oauth2 import service_account\n",
        "\n",
        "credentials = service_account.Credentials.from_service_account_file(GOOGLE_AUTH_CREDENTIALS_FILE)\n",
        "magics.context.credentials = credentials\n",
        "\n",
        "client = bigquery.Client(credentials=credentials, project=GOOGLE_BIGQUERY_PROJECT)\n",
        "\n",
        "%load_ext google.cloud.bigquery"
      ],
      "execution_count": 16,
      "outputs": [
        {
          "output_type": "stream",
          "text": [
            "The google.cloud.bigquery extension is already loaded. To reload it, use:\n",
            "  %reload_ext google.cloud.bigquery\n"
          ],
          "name": "stdout"
        }
      ]
    },
    {
      "cell_type": "markdown",
      "metadata": {
        "id": "2pSu_6KR7XtF"
      },
      "source": [
        "### Montagem do dataset"
      ]
    },
    {
      "cell_type": "code",
      "metadata": {
        "id": "L-0s3fg3DmQe",
        "outputId": "9be09e98-85cb-40ff-f4cf-e22587062df4",
        "colab": {
          "base_uri": "https://localhost:8080/",
          "height": 34
        }
      },
      "source": [
        "job_config = bigquery.QueryJobConfig(\n",
        "  destination=GOOGLE_BIGQUERY_DESTINATION_TABLE,\n",
        "  write_disposition=\"WRITE_TRUNCATE\",\n",
        "  create_disposition=\"CREATE_IF_NEEDED\",\n",
        "  schema_update_options=[\"ALLOW_FIELD_ADDITION\", \"ALLOW_FIELD_RELAXATION\"],\n",
        "  use_legacy_sql=False,\n",
        "  time_partitioning=bigquery.table.TimePartitioning(field=\"day\"),\n",
        ")\n",
        "\n",
        "query = client.query(f\"\"\"\n",
        "WITH\n",
        "###\n",
        "# Realiza a soma das métricas brutas nos últimos @MOVING_AVARAGE_DAYS\n",
        "###\n",
        "campaign_performance_over_window AS (\n",
        "  SELECT\n",
        "    *,\n",
        "    SUM(impressions)                           OVER(PARTITION BY campaign_id ORDER BY day ROWS BETWEEN {MW_PARAMETER} PRECEDING AND CURRENT ROW) AS impressions_over_window,\n",
        "    SUM(clicks)                                OVER(PARTITION BY campaign_id ORDER BY day ROWS BETWEEN {MW_PARAMETER} PRECEDING AND CURRENT ROW) AS clicks_over_window,\n",
        "    SUM(video_views)                           OVER(PARTITION BY campaign_id ORDER BY day ROWS BETWEEN {MW_PARAMETER} PRECEDING AND CURRENT ROW) AS video_views_over_window,\n",
        "    SUM(cost)                                  OVER(PARTITION BY campaign_id ORDER BY day ROWS BETWEEN {MW_PARAMETER} PRECEDING AND CURRENT ROW) AS cost_over_window,\n",
        "    SUM(conversions)                           OVER(PARTITION BY campaign_id ORDER BY day ROWS BETWEEN {MW_PARAMETER} PRECEDING AND CURRENT ROW) AS conversions_over_window,\n",
        "    SUM(conversion_value_sales)                OVER(PARTITION BY campaign_id ORDER BY day ROWS BETWEEN {MW_PARAMETER} PRECEDING AND CURRENT ROW) AS conversion_value_sales_over_window,\n",
        "    MAX(SAFE_DIVIDE(cost, conversions))        OVER(PARTITION BY campaign_id ORDER BY day ROWS BETWEEN {MW_PARAMETER} PRECEDING AND CURRENT ROW) AS max_cpa_over_window,\n",
        "    MAX(SAFE_DIVIDE(cost, clicks))             OVER(PARTITION BY campaign_id ORDER BY day ROWS BETWEEN {MW_PARAMETER} PRECEDING AND CURRENT ROW) AS max_cpc_over_window,\n",
        "    MAX(SAFE_DIVIDE(cost, impressions / 1000)) OVER(PARTITION BY campaign_id ORDER BY day ROWS BETWEEN {MW_PARAMETER} PRECEDING AND CURRENT ROW) AS max_cpm_over_window,\n",
        "    MAX(SAFE_DIVIDE(cost, video_views))        OVER(PARTITION BY campaign_id ORDER BY day ROWS BETWEEN {MW_PARAMETER} PRECEDING AND CURRENT ROW) AS max_cpv_over_window,\n",
        "    COUNT(*)                                   OVER(PARTITION BY campaign_id ORDER BY day ROWS BETWEEN {MW_PARAMETER} PRECEDING AND CURRENT ROW) AS num_days\n",
        "  FROM\n",
        "    `{GOOGLE_BIGQUERY_PROJECT}.{GOOGLE_BIGQUERY_DATASET}.ggl_campaign_performance`\n",
        "  WHERE\n",
        "    day >= DATE_SUB(DATE(\"{PARTITION_DATE}\"), INTERVAL 14 DAY)\n",
        "),\n",
        "\n",
        "###\n",
        "# Realiza o cálculo dos kpis nos últimos @MOVING_AVARAGE_DAYS\n",
        "###\n",
        "campaign_performance_with_kpis_over_window AS (\n",
        "  SELECT\n",
        "    *,\n",
        "    SAFE_DIVIDE(cost_over_window, conversions_over_window) AS cpa_over_window,\n",
        "    SAFE_DIVIDE(cost_over_window, clicks_over_window) AS cpc_over_window,\n",
        "    SAFE_DIVIDE(cost_over_window, impressions_over_window / 1000) AS cpm_over_window,\n",
        "    SAFE_DIVIDE(cost_over_window, video_views_over_window) AS cpv_over_window,\n",
        "    SAFE_DIVIDE(conversion_value_sales_over_window, cost_over_window) AS roas_over_window\n",
        "  FROM\n",
        "    campaign_performance_over_window\n",
        "),\n",
        "\n",
        "###\n",
        "# Realiza o cálculo do optimization_metric_value nos últimos @MOVING_AVARAGE_DAYS\n",
        "# particionado por dia\n",
        "# Caso optimization_metric_value seja nulo, \n",
        "# assumiremos que a campanha teve o pior resultado dentre as campanhas, \n",
        "# sendo de menor prioridade na optimização no simplex, ordenando pelo custo dentre as de valor nulo\n",
        "###\n",
        "campaign_performance_with_kpi_value_over_window AS (\n",
        "  SELECT\n",
        "    kd.day,\n",
        "    kd.account_id,\n",
        "    kd.account_name,\n",
        "    kd.campaign_id,\n",
        "    kd.campaign_name,\n",
        "    kd.version,\n",
        "    kd.pool_id,\n",
        "    kd.pool_name,\n",
        "    kd.objective_id,\n",
        "    kd.objective_name,\n",
        "    kd.objective_budget,\n",
        "    kd.bid_strategy_type,\n",
        "    kd.subobjective_name,\n",
        "    kd.subobjective_budget,\n",
        "    kd.subobjective_base_daily_budget,\n",
        "    kd.subobjective_daily_budget,\n",
        "    kd.subobjective_cost_share,\n",
        "    kd.last_month_objective_cost,\n",
        "    kd.last_month_subobjective_cost,\n",
        "    kd.this_month_subobjective_cost,\n",
        "    kd.optimization_metric,\n",
        "    num_days,\n",
        "    cpa_over_window,\n",
        "    cpc_over_window,\n",
        "    cpm_over_window,\n",
        "    cpv_over_window,\n",
        "    roas_over_window,\n",
        "    CASE\n",
        "        WHEN optimization_metric = \"CPC\" THEN IFNULL(cpc_over_window, IFNULL(max_cpc_over_window, 0) + cost_over_window)\n",
        "        WHEN optimization_metric = \"CPA\" THEN IFNULL(cpa_over_window, IFNULL(max_cpa_over_window, 0) + cost_over_window)\n",
        "        WHEN optimization_metric = \"CPM\" THEN IFNULL(cpm_over_window, IFNULL(max_cpm_over_window, 0) + cost_over_window)\n",
        "        WHEN optimization_metric = \"CPV\" THEN IFNULL(cpv_over_window, IFNULL(max_cpv_over_window, 0) + cost_over_window)\n",
        "        WHEN optimization_metric = \"ROAS\" THEN IF(IFNULL(roas_over_window, 0) = 0, IFNULL(SAFE_DIVIDE(1, cost_over_window), 0), roas_over_window)\n",
        "    END optimization_metric_value,\n",
        "    CASE\n",
        "        WHEN optimization_metric = \"CPC\" THEN IF(cpc_over_window IS NULL, 'virtual', 'real')\n",
        "        WHEN optimization_metric = \"CPA\" THEN IF(cpa_over_window IS NULL, 'virtual', 'real')\n",
        "        WHEN optimization_metric = \"CPM\" THEN IF(cpm_over_window IS NULL, 'virtual', 'real')\n",
        "        WHEN optimization_metric = \"CPV\" THEN IF(cpv_over_window IS NULL, 'virtual', 'real')\n",
        "        WHEN optimization_metric = \"ROAS\" THEN IF(roas_over_window IS NULL, 'virtual', 'real')\n",
        "    END optimization_metric_value_source,\n",
        "  FROM \n",
        "    `{GOOGLE_BIGQUERY_PROJECT}.{GOOGLE_BIGQUERY_DATASET}.ggl_kpi_definition` as kd\n",
        "  LEFT JOIN campaign_performance_with_kpis_over_window as kpiw\n",
        "  USING (account_id, campaign_id, day)\n",
        "  WHERE\n",
        "    day = \"{PARTITION_DATE}\"\n",
        "),\n",
        "\n",
        "###\n",
        "# Realiza o cálculo do optimization_metric_coeficient nos últimos @MOVING_AVARAGE_DAYS\n",
        "###\n",
        "campaign_performance_with_kpi_coeficient_over_window AS (\n",
        "  SELECT\n",
        "    *,\n",
        "    UTIL.get_optimization_coeficient_ggl(optimization_metric, optimization_metric_value) as optimization_metric_coeficient\n",
        "  FROM \n",
        "    campaign_performance_with_kpi_value_over_window\n",
        ")\n",
        "\n",
        "###\n",
        "# Filtra as colunas necessárias\n",
        "###\n",
        "SELECT\n",
        "    day,\n",
        "    account_id,\n",
        "    account_name,\n",
        "    campaign_id,\n",
        "    campaign_name,\n",
        "    version,\n",
        "    pool_id,\n",
        "    pool_name,\n",
        "    objective_id,\n",
        "    objective_name,\n",
        "    ROUND(objective_budget,3) as objective_budget,\n",
        "    bid_strategy_type,\n",
        "    subobjective_name,\n",
        "    ROUND(subobjective_budget,3) as subobjective_budget,\n",
        "    ROUND(subobjective_base_daily_budget,3) as subobjective_base_daily_budget,\n",
        "    ROUND(subobjective_daily_budget,3) as subobjective_daily_budget,\n",
        "    ROUND(subobjective_cost_share,3) as subobjective_cost_share,\n",
        "    num_days,\n",
        "    ROUND(cpa_over_window,3) as cpa_over_window,\n",
        "    ROUND(cpc_over_window,3) as cpc_over_window,\n",
        "    ROUND(cpm_over_window,3) as cpm_over_window,\n",
        "    ROUND(cpv_over_window,3) as cpv_over_window,\n",
        "    ROUND(roas_over_window,3) as roas_over_window,\n",
        "    optimization_metric,\n",
        "    ROUND(optimization_metric_value,3) as optimization_metric_value,\n",
        "    ROUND(optimization_metric_coeficient,3) as optimization_metric_coeficient,\n",
        "    optimization_metric_value_source\n",
        "FROM\n",
        "    campaign_performance_with_kpi_coeficient_over_window\n",
        "ORDER BY account_id, campaign_id, day DESC\n",
        "\"\"\", job_config=job_config)\n",
        "\n",
        "query.result()"
      ],
      "execution_count": 17,
      "outputs": [
        {
          "output_type": "execute_result",
          "data": {
            "text/plain": [
              "<google.cloud.bigquery.table.RowIterator at 0x7f415c49b3c8>"
            ]
          },
          "metadata": {
            "tags": []
          },
          "execution_count": 17
        }
      ]
    },
    {
      "cell_type": "code",
      "metadata": {
        "id": "Hj7prifIIINZ"
      },
      "source": [
        ""
      ],
      "execution_count": 17,
      "outputs": []
    },
    {
      "cell_type": "markdown",
      "metadata": {
        "id": "eMmueQFr9lo9"
      },
      "source": [
        "Abaixo, temos dados estatísticos do dataset a critério de análise."
      ]
    },
    {
      "cell_type": "code",
      "metadata": {
        "id": "R2ADiz8jGzmG"
      },
      "source": [
        "# %%bigquery df --project $GOOGLE_BIGQUERY_PROJECT\n",
        "# WITH\n",
        "# ###\n",
        "# # Realiza a soma das métricas brutas nos últimos @MOVING_AVARAGE_DAYS\n",
        "# ###\n",
        "# campaign_performance_over_window AS (\n",
        "#   SELECT\n",
        "#     *,\n",
        "#     SUM(impressions)            OVER(PARTITION BY campaign_id ORDER BY day ROWS BETWEEN 6 PRECEDING AND CURRENT ROW) AS impressions_over_window,\n",
        "#     SUM(clicks)                 OVER(PARTITION BY campaign_id ORDER BY day ROWS BETWEEN 6 PRECEDING AND CURRENT ROW) AS clicks_over_window,\n",
        "#     SUM(video_views)            OVER(PARTITION BY campaign_id ORDER BY day ROWS BETWEEN 6 PRECEDING AND CURRENT ROW) AS video_views_over_window,\n",
        "#     SUM(cost)                   OVER(PARTITION BY campaign_id ORDER BY day ROWS BETWEEN 6 PRECEDING AND CURRENT ROW) AS cost_over_window,\n",
        "#     SUM(conversions)            OVER(PARTITION BY campaign_id ORDER BY day ROWS BETWEEN 6 PRECEDING AND CURRENT ROW) AS conversions_over_window,\n",
        "#     SUM(conversion_value_sales) OVER(PARTITION BY campaign_id ORDER BY day ROWS BETWEEN 6 PRECEDING AND CURRENT ROW) AS conversion_value_sales_over_window,\n",
        "#     COUNT(*)                    OVER(PARTITION BY campaign_id ORDER BY day ROWS BETWEEN 6 PRECEDING AND CURRENT ROW) AS num_days\n",
        "#   FROM\n",
        "#     BUDGET_MANAGER_TEST.ggl_campaign_performance\n",
        "#   WHERE\n",
        "#     day >= DATE_SUB(DATE(DATE_SUB(CURRENT_DATE(), INTERVAL 2 DAY)), INTERVAL 14 DAY)\n",
        "# ),\n",
        "\n",
        "# ###\n",
        "# # Realiza o cálculo dos kpis nos últimos @MOVING_AVARAGE_DAYS\n",
        "# ###\n",
        "# campaign_performance_with_kpis_over_window AS (\n",
        "#   SELECT\n",
        "#     *,\n",
        "#     SAFE_DIVIDE(cost_over_window, conversions_over_window) AS cpa_over_window,\n",
        "#     SAFE_DIVIDE(cost_over_window, clicks_over_window) AS cpc_over_window,\n",
        "#     SAFE_DIVIDE(cost_over_window, impressions_over_window / 1000) AS cpm_over_window,\n",
        "#     SAFE_DIVIDE(cost_over_window, video_views_over_window) AS cpv_over_window,\n",
        "#     SAFE_DIVIDE(conversion_value_sales_over_window, cost_over_window) AS roas_over_window\n",
        "#   FROM\n",
        "#     campaign_performance_over_window\n",
        "# ),\n",
        "\n",
        "# ###\n",
        "# # Realiza o cálculo do optimization_metric_value nos últimos @MOVING_AVARAGE_DAYS\n",
        "# # particionado por dia\n",
        "# ###\n",
        "# campaign_performance_with_kpi_value_over_window AS (\n",
        "#   SELECT\n",
        "#     kd.day,\n",
        "#     kd.account_id,\n",
        "#     kd.account_name,\n",
        "#     kd.campaign_id,\n",
        "#     kd.campaign_name,\n",
        "#     kd.version,\n",
        "#     kd.pool_id,\n",
        "#     kd.pool_name,\n",
        "#     kd.objective_id,\n",
        "#     kd.objective_name,\n",
        "#     kd.objective_budget,\n",
        "#     kd.bid_strategy_type,\n",
        "#     kd.subobjective_name,\n",
        "#     kd.subobjective_budget,\n",
        "#     kd.subobjective_base_daily_budget,\n",
        "#     kd.subobjective_daily_budget,\n",
        "#     kd.subobjective_cost_share,\n",
        "#     kd.last_month_objective_cost,\n",
        "#     kd.last_month_subobjective_cost,\n",
        "#     kd.this_month_subobjective_cost,\n",
        "#     kd.optimization_metric,\n",
        "#     num_days,\n",
        "#     cpa_over_window,\n",
        "#     cpc_over_window,\n",
        "#     cpm_over_window,\n",
        "#     cpv_over_window,\n",
        "#     roas_over_window,\n",
        "#     CASE\n",
        "#         WHEN optimization_metric = \"CPC\" THEN cpc_over_window\n",
        "#         WHEN optimization_metric = \"CPA\" THEN cpa_over_window\n",
        "#         WHEN optimization_metric = \"CPM\" THEN cpm_over_window\n",
        "#         WHEN optimization_metric = \"CPV\" THEN cpv_over_window\n",
        "#         WHEN optimization_metric = \"ROAS\" THEN roas_over_window \n",
        "#     END optimization_metric_value,\n",
        "#   FROM \n",
        "#     BUDGET_MANAGER_TEST.ggl_kpi_definition as kd\n",
        "#   LEFT JOIN campaign_performance_with_kpis_over_window as kpiw\n",
        "#   USING (account_id, campaign_id, day)\n",
        "#   WHERE\n",
        "#     day = DATE_SUB(CURRENT_DATE(), INTERVAL 2 DAY)\n",
        "# ),\n",
        "\n",
        "# ###\n",
        "# # Realiza o cálculo do optimization_metric_coeficient nos últimos @MOVING_AVARAGE_DAYS\n",
        "# ###\n",
        "# campaign_performance_with_kpi_coeficient_over_window AS (\n",
        "#   SELECT\n",
        "#     *,\n",
        "#     UTIL.get_optimization_coeficient_ggl(optimization_metric, optimization_metric_value) as optimization_metric_coeficient\n",
        "#   FROM \n",
        "#     campaign_performance_with_kpi_value_over_window\n",
        "# )\n",
        "\n",
        "# ###\n",
        "# # Filtra as colunas necessárias\n",
        "# ###\n",
        "# SELECT\n",
        "#     day,\n",
        "#     account_id,\n",
        "#     account_name,\n",
        "#     campaign_id,\n",
        "#     campaign_name,\n",
        "#     version,\n",
        "#     pool_id,\n",
        "#     pool_name,\n",
        "#     objective_id,\n",
        "#     objective_name,\n",
        "#     ROUND(objective_budget,3) as objective_budget,\n",
        "#     bid_strategy_type,\n",
        "#     subobjective_name,\n",
        "#     ROUND(subobjective_budget,3) as subobjective_budget,\n",
        "#     ROUND(subobjective_base_daily_budget,3) as subobjective_base_daily_budget,\n",
        "#     ROUND(subobjective_daily_budget,3) as subobjective_daily_budget,\n",
        "#     ROUND(subobjective_cost_share,3) as subobjective_cost_share,\n",
        "#     ROUND(last_month_objective_cost,3) as last_month_objective_cost,\n",
        "#     ROUND(last_month_subobjective_cost,3) as last_month_subobjective_cost,\n",
        "#     ROUND(this_month_subobjective_cost,3) as this_month_subobjective_cost,\n",
        "#     num_days,\n",
        "#     ROUND(cpa_over_window,3) as cpa_over_window,\n",
        "#     ROUND(cpc_over_window,3) as cpc_over_window,\n",
        "#     ROUND(cpm_over_window,3) as cpm_over_window,\n",
        "#     ROUND(cpv_over_window,3) as cpv_over_window,\n",
        "#     ROUND(roas_over_window,3) as roas_over_window,\n",
        "#     optimization_metric,\n",
        "#     ROUND(optimization_metric_value,3) as optimization_metric_value,\n",
        "#     ROUND(optimization_metric_coeficient,3) as optimization_metric_coeficient\n",
        "# FROM\n",
        "#     campaign_performance_with_kpi_coeficient_over_window\n",
        "# ORDER BY account_id, campaign_id, day DESC"
      ],
      "execution_count": 18,
      "outputs": []
    },
    {
      "cell_type": "code",
      "metadata": {
        "id": "hxKa6KRmIBMz"
      },
      "source": [
        "# df.describe()"
      ],
      "execution_count": 19,
      "outputs": []
    },
    {
      "cell_type": "code",
      "metadata": {
        "id": "nqnUZzOYIi_F"
      },
      "source": [
        "# df.head(100)"
      ],
      "execution_count": 20,
      "outputs": []
    },
    {
      "cell_type": "code",
      "metadata": {
        "id": "ahJ1997SJnGJ"
      },
      "source": [
        ""
      ],
      "execution_count": 20,
      "outputs": []
    }
  ]
}
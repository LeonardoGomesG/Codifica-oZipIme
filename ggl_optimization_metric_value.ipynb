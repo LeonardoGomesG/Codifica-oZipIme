{
  "nbformat": 4,
  "nbformat_minor": 0,
  "metadata": {
    "colab": {
      "name": "ggl_optimization_metric_value.ipynb",
      "provenance": [],
      "authorship_tag": "ABX9TyNM3gO5ju1fRfHcy7sLUGqy",
      "include_colab_link": true
    },
    "kernelspec": {
      "name": "python3",
      "display_name": "Python 3"
    }
  },
  "cells": [
    {
      "cell_type": "markdown",
      "metadata": {
        "id": "view-in-github",
        "colab_type": "text"
      },
      "source": [
        "<a href=\"https://colab.research.google.com/github/LeonardoGomesG/Codifica-oZipIme/blob/master/ggl_optimization_metric_value.ipynb\" target=\"_parent\"><img src=\"https://colab.research.google.com/assets/colab-badge.svg\" alt=\"Open In Colab\"/></a>"
      ]
    },
    {
      "cell_type": "markdown",
      "metadata": {
        "id": "fpMqYdih1Eco",
        "colab_type": "text"
      },
      "source": [
        "# Budget Manager -  Cálculo do Valor da Métrica de Otimização\n",
        "\n",
        "O objetivo desta etapa é calcular o Valor da Métrica de Otimização escolhida no processo anterior. \\\\\n",
        "O valor de todos os kpis das campanhas serão calculados de acordo com uma janela fixa de dias (futuramente uma janela móvel) a partir do dia atual, dada pelo parametro METRIC_WINDOW definido abaixo. \\\\\n",
        "Será calculado também o valor do coeficiente usado na otimização do simplex, definindo se quer-se minimizar ou maximizar a Métrica de Otimização.\n",
        "\n",
        "\n"
      ]
    },
    {
      "cell_type": "markdown",
      "metadata": {
        "id": "msm3pXH65omU",
        "colab_type": "text"
      },
      "source": [
        "### Configuração do notebook\n",
        "\n",
        "Utilizaremos as biblitecas pandas e numpy para trabalhar com o dataset. Para o carregamento e consulta dos dados, utilizaremos a biblioteca do google cloud. Abaixo, iremos configurar os parâmetros globais do algoritmo."
      ]
    },
    {
      "cell_type": "code",
      "metadata": {
        "id": "GVhhXUYb9KLe",
        "colab_type": "code",
        "colab": {}
      },
      "source": [
        "import os\n",
        "import warnings\n",
        "\n",
        "from datetime import datetime, timedelta\n",
        "\n",
        "warnings.filterwarnings('ignore', category=FutureWarning)\n",
        "\n",
        "import pandas as pd\n",
        "import numpy as np"
      ],
      "execution_count": 23,
      "outputs": []
    },
    {
      "cell_type": "code",
      "metadata": {
        "id": "hi15LqjP6Tw1",
        "colab_type": "code",
        "colab": {}
      },
      "source": [
        "PARTITION_DATE = locals().get('ds', (datetime.today() - timedelta(days=1)).strftime(\"%Y-%m-%d\"))\n",
        "PARTITION_DATE_NODASH = locals().get('ds_nodash', (datetime.today() - timedelta(days=1)).strftime(\"%Y%m%d\"))\n",
        "\n",
        "GOOGLE_AUTH_CREDENTIALS_FILE = os.environ.get('GOOGLE_APPLICATION_CREDENTIALS', '/content/credentials.json')\n",
        "\n",
        "GOOGLE_BIGQUERY_PROJECT = 'pareto-bi'\n",
        "GOOGLE_BIGQUERY_DATASET = locals().get('gbq_dataset', 'BUDGET_MANAGER_TEST')\n",
        "GOOGLE_BIGQUERY_DESTINATION_TABLE = f'{GOOGLE_BIGQUERY_PROJECT}.{GOOGLE_BIGQUERY_DATASET}.ggl_optimization_metric_value${PARTITION_DATE_NODASH}'\n",
        "\n",
        "METRIC_WINDOW = 7\n",
        "MW_PARAMETER = METRIC_WINDOW - 1"
      ],
      "execution_count": 24,
      "outputs": []
    },
    {
      "cell_type": "code",
      "metadata": {
        "id": "4KoikYicCA11",
        "colab_type": "code",
        "colab": {
          "base_uri": "https://localhost:8080/",
          "height": 51
        },
        "outputId": "2b3347bf-7b28-45d5-f280-b18c798a113f"
      },
      "source": [
        "from google.cloud import bigquery\n",
        "from google.cloud.bigquery import magics\n",
        "from google.oauth2 import service_account\n",
        "\n",
        "credentials = service_account.Credentials.from_service_account_file(GOOGLE_AUTH_CREDENTIALS_FILE)\n",
        "magics.context.credentials = credentials\n",
        "\n",
        "client = bigquery.Client(credentials=credentials, project=GOOGLE_BIGQUERY_PROJECT)\n",
        "\n",
        "%load_ext google.cloud.bigquery"
      ],
      "execution_count": 25,
      "outputs": [
        {
          "output_type": "stream",
          "text": [
            "The google.cloud.bigquery extension is already loaded. To reload it, use:\n",
            "  %reload_ext google.cloud.bigquery\n"
          ],
          "name": "stdout"
        }
      ]
    },
    {
      "cell_type": "markdown",
      "metadata": {
        "id": "2pSu_6KR7XtF",
        "colab_type": "text"
      },
      "source": [
        "### Montagem do dataset"
      ]
    },
    {
      "cell_type": "code",
      "metadata": {
        "id": "L-0s3fg3DmQe",
        "colab_type": "code",
        "colab": {
          "base_uri": "https://localhost:8080/",
          "height": 34
        },
        "outputId": "06e47ff9-6077-4ad4-9068-01cdaa076fae"
      },
      "source": [
        "job_config = bigquery.QueryJobConfig(\n",
        "  destination=GOOGLE_BIGQUERY_DESTINATION_TABLE,\n",
        "  write_disposition=\"WRITE_TRUNCATE\",\n",
        "  create_disposition=\"CREATE_IF_NEEDED\",\n",
        "  schema_update_options=[\"ALLOW_FIELD_ADDITION\", \"ALLOW_FIELD_RELAXATION\"],\n",
        "  use_legacy_sql=False,\n",
        ")\n",
        "\n",
        "query = client.query(f\"\"\"\n",
        "WITH\n",
        "###\n",
        "# Realiza a soma das métricas brutas nos últimos @MOVING_AVARAGE_DAYS\n",
        "###\n",
        "campaign_performance_over_window AS (\n",
        "  SELECT\n",
        "    *,\n",
        "    SUM(impressions)            OVER(PARTITION BY campaign_id ORDER BY day ROWS BETWEEN {MW_PARAMETER} PRECEDING AND CURRENT ROW) AS impressions_over_window,\n",
        "    SUM(clicks)                 OVER(PARTITION BY campaign_id ORDER BY day ROWS BETWEEN {MW_PARAMETER} PRECEDING AND CURRENT ROW) AS clicks_over_window,\n",
        "    SUM(video_views)            OVER(PARTITION BY campaign_id ORDER BY day ROWS BETWEEN {MW_PARAMETER} PRECEDING AND CURRENT ROW) AS video_views_over_window,\n",
        "    SUM(cost)                   OVER(PARTITION BY campaign_id ORDER BY day ROWS BETWEEN {MW_PARAMETER} PRECEDING AND CURRENT ROW) AS cost_over_window,\n",
        "    SUM(conversions)            OVER(PARTITION BY campaign_id ORDER BY day ROWS BETWEEN {MW_PARAMETER} PRECEDING AND CURRENT ROW) AS conversions_over_window,\n",
        "    SUM(conversion_value_sales) OVER(PARTITION BY campaign_id ORDER BY day ROWS BETWEEN {MW_PARAMETER} PRECEDING AND CURRENT ROW) AS conversion_value_sales_over_window,\n",
        "    COUNT(*)                    OVER(PARTITION BY campaign_id ORDER BY day ROWS BETWEEN {MW_PARAMETER} PRECEDING AND CURRENT ROW) AS num_days\n",
        "  FROM\n",
        "    `{GOOGLE_BIGQUERY_PROJECT}.{GOOGLE_BIGQUERY_DATASET}.ggl_campaign_performance`\n",
        "  WHERE\n",
        "    day >= DATE_SUB(DATE(\"{PARTITION_DATE}\"), INTERVAL 14 DAY)\n",
        "),\n",
        "\n",
        "###\n",
        "# Realiza o cálculo dos kpis nos últimos @MOVING_AVARAGE_DAYS\n",
        "###\n",
        "campaign_performance_with_kpis_over_window AS (\n",
        "  SELECT\n",
        "    *,\n",
        "    SAFE_DIVIDE(cost_over_window, conversions_over_window) AS cpa_over_window,\n",
        "    SAFE_DIVIDE(cost_over_window, clicks_over_window) AS cpc_over_window,\n",
        "    SAFE_DIVIDE(cost_over_window, impressions_over_window / 1000) AS cpm_over_window,\n",
        "    SAFE_DIVIDE(cost_over_window, video_views_over_window) AS cpv_over_window,\n",
        "    SAFE_DIVIDE(conversion_value_sales_over_window, cost_over_window) AS roas_over_window\n",
        "  FROM\n",
        "    campaign_performance_over_window\n",
        "),\n",
        "\n",
        "###\n",
        "# Realiza o cálculo do optimization_metric_value nos últimos @MOVING_AVARAGE_DAYS\n",
        "# particionado por dia\n",
        "###\n",
        "campaign_performance_with_kpi_value_over_window AS (\n",
        "  SELECT\n",
        "    kd.day,\n",
        "    kd.account_id,\n",
        "    kd.account_name,\n",
        "    kd.campaign_id,\n",
        "    kd.campaign_name,\n",
        "    kd.version,\n",
        "    kd.pool_id,\n",
        "    kd.pool_name,\n",
        "    kd.objective_id,\n",
        "    kd.objective_name,\n",
        "    kd.objective_budget,\n",
        "    kd.bid_strategy_type,\n",
        "    kd.subobjective_name,\n",
        "    kd.subobjective_budget,\n",
        "    kd.subobjective_base_daily_budget,\n",
        "    kd.subobjective_daily_budget,\n",
        "    kd.subobjective_cost_share,\n",
        "    kd.last_month_objective_cost,\n",
        "    kd.last_month_subobjective_cost,\n",
        "    kd.this_month_subobjective_cost,\n",
        "    kd.optimization_metric,\n",
        "    num_days,\n",
        "    cpa_over_window,\n",
        "    cpc_over_window,\n",
        "    cpm_over_window,\n",
        "    cpv_over_window,\n",
        "    roas_over_window,\n",
        "    CASE\n",
        "        WHEN optimization_metric = \"CPC\" THEN cpc_over_window\n",
        "        WHEN optimization_metric = \"CPA\" THEN cpa_over_window\n",
        "        WHEN optimization_metric = \"CPM\" THEN cpm_over_window\n",
        "        WHEN optimization_metric = \"CPV\" THEN cpv_over_window\n",
        "        WHEN optimization_metric = \"ROAS\" THEN roas_over_window \n",
        "    END optimization_metric_value,\n",
        "  FROM \n",
        "    `{GOOGLE_BIGQUERY_PROJECT}.{GOOGLE_BIGQUERY_DATASET}.ggl_kpi_definition` as kd\n",
        "  LEFT JOIN campaign_performance_with_kpis_over_window as kpiw\n",
        "  USING (account_id, campaign_id, day)\n",
        "  WHERE\n",
        "    day = \"{PARTITION_DATE}\"\n",
        "),\n",
        "\n",
        "###\n",
        "# Realiza o cálculo do optimization_metric_coeficient nos últimos @MOVING_AVARAGE_DAYS\n",
        "###\n",
        "campaign_performance_with_kpi_coeficient_over_window AS (\n",
        "  SELECT\n",
        "    *,\n",
        "    UTIL.get_optimization_coeficient_ggl(optimization_metric, optimization_metric_value) as optimization_metric_coeficient\n",
        "  FROM \n",
        "    campaign_performance_with_kpi_value_over_window\n",
        ")\n",
        "\n",
        "###\n",
        "# Filtra as colunas necessárias\n",
        "###\n",
        "SELECT\n",
        "    day,\n",
        "    account_id,\n",
        "    account_name,\n",
        "    campaign_id,\n",
        "    campaign_name,\n",
        "    version,\n",
        "    pool_id,\n",
        "    pool_name,\n",
        "    objective_id,\n",
        "    objective_name,\n",
        "    ROUND(objective_budget,3),\n",
        "    bid_strategy_type,\n",
        "    subobjective_name,\n",
        "    ROUND(subobjective_budget,3),\n",
        "    ROUND(subobjective_base_daily_budget,3),\n",
        "    ROUND(subobjective_daily_budget,3),\n",
        "    ROUND(subobjective_cost_share,3),\n",
        "    ROUND(last_month_objective_cost,3),\n",
        "    ROUND(last_month_subobjective_cost,3),\n",
        "    ROUND(this_month_subobjective_cost,3),\n",
        "    num_days,\n",
        "    ROUND(cpa_over_window,3),\n",
        "    ROUND(cpc_over_window,3),\n",
        "    ROUND(cpm_over_window,3),\n",
        "    ROUND(cpv_over_window,3),\n",
        "    ROUND(roas_over_window,3),\n",
        "    optimization_metric,\n",
        "    ROUND(optimization_metric_value,3),\n",
        "    ROUND(optimization_metric_coeficient,3)\n",
        "FROM\n",
        "    campaign_performance_with_kpi_coeficient_over_window\n",
        "ORDER BY account_id, campaign_id, day DESC\n",
        "\"\"\", job_config=job_config)\n",
        "\n",
        "query.result()"
      ],
      "execution_count": 28,
      "outputs": [
        {
          "output_type": "execute_result",
          "data": {
            "text/plain": [
              "<google.cloud.bigquery.table.RowIterator at 0x7f04f1b38128>"
            ]
          },
          "metadata": {
            "tags": []
          },
          "execution_count": 28
        }
      ]
    },
    {
      "cell_type": "markdown",
      "metadata": {
        "id": "eMmueQFr9lo9",
        "colab_type": "text"
      },
      "source": [
        "Abaixo, temos dados estatísticos do dataset a critério de análise."
      ]
    },
    {
      "cell_type": "code",
      "metadata": {
        "id": "hxKa6KRmIBMz",
        "colab_type": "code",
        "colab": {}
      },
      "source": [
        "# df.describe()"
      ],
      "execution_count": null,
      "outputs": []
    }
  ]
}